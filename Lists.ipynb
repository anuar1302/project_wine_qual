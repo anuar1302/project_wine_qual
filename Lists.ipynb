{
 "cells": [
  {
   "cell_type": "markdown",
   "metadata": {},
   "source": [
    "## Дано пятизначное или шестизначное натуральное число. Напишите программу, которая изменит порядок его последних пяти цифр на обратный."
   ]
  },
  {
   "cell_type": "code",
   "execution_count": 10,
   "metadata": {},
   "outputs": [
    {
     "name": "stdout",
     "output_type": "stream",
     "text": [
      "514578\n"
     ]
    },
    {
     "data": {
      "text/plain": [
       "875415"
      ]
     },
     "execution_count": 10,
     "metadata": {},
     "output_type": "execute_result"
    }
   ],
   "source": [
    "x=int(input())\n",
    "num = str(x)\n",
    "reversed_num = num[::-1]\n",
    "output = int(reversed_num)\n",
    "output\n"
   ]
  },
  {
   "cell_type": "markdown",
   "metadata": {},
   "source": [
    "## На вход программе подаётся натуральное число. Напишите программу, которая вставляет в заданное число запятые в соответствии со стандартным американским соглашением о запятых в больших числах.  Sample Input:1000000  Sample Output :1,000,000"
   ]
  },
  {
   "cell_type": "code",
   "execution_count": 19,
   "metadata": {},
   "outputs": [
    {
     "name": "stdout",
     "output_type": "stream",
     "text": [
      "16165161681\n"
     ]
    },
    {
     "data": {
      "text/plain": [
       "'16,165,161,681'"
      ]
     },
     "execution_count": 19,
     "metadata": {},
     "output_type": "execute_result"
    }
   ],
   "source": [
    "number=int(input())\n",
    "list1=[]\n",
    "for digit in str(number):\n",
    "    list1.append(digit)\n",
    "for i in range((len(list1)-1)//3):\n",
    "    list1.insert(-4*(i+1)+1, ',')\n",
    "list1\n",
    "output=''\n",
    "for i in list1:\n",
    "    output+=i\n",
    "output"
   ]
  },
  {
   "cell_type": "markdown",
   "metadata": {},
   "source": [
    "## Дана строка, состоящая из слов, разделенных пробелами. Напишите программу, которая подсчитывает количество слов в этой строке."
   ]
  },
  {
   "cell_type": "code",
   "execution_count": 29,
   "metadata": {},
   "outputs": [
    {
     "name": "stdout",
     "output_type": "stream",
     "text": [
      "Посчитай сколько тут слов\n"
     ]
    },
    {
     "data": {
      "text/plain": [
       "4"
      ]
     },
     "execution_count": 29,
     "metadata": {},
     "output_type": "execute_result"
    }
   ],
   "source": [
    "x=input()\n",
    "sentence = str(x)\n",
    "spaces = sentence.count(' ')\n",
    "words = spaces+1\n",
    "words"
   ]
  },
  {
   "cell_type": "markdown",
   "metadata": {},
   "source": [
    "## На вход программе подается строка текста из натуральных чисел. Из неё формируется список чисел. Напишите программу подсчета количества чисел, которые больше предшествующего им в этом списке числа. "
   ]
  },
  {
   "cell_type": "code",
   "execution_count": 40,
   "metadata": {},
   "outputs": [
    {
     "name": "stdout",
     "output_type": "stream",
     "text": [
      "1 1 3 1 1 \n"
     ]
    },
    {
     "data": {
      "text/plain": [
       "1"
      ]
     },
     "execution_count": 40,
     "metadata": {},
     "output_type": "execute_result"
    }
   ],
   "source": [
    "def remove_all_occurrences(lst,symbol):\n",
    "    while symbol in lst:\n",
    "        lst.remove(symbol)\n",
    "    return lst\n",
    "\n",
    "x = input()\n",
    "list1=[]\n",
    "for i in str(x):\n",
    "    list1.append(i)\n",
    "list1 = remove_all_occurrences(list1, ' ')\n",
    "list1\n",
    "counter=0\n",
    "for i in range(len(list1)-1):\n",
    "    if list1[i]<list1[i+1]:\n",
    "        counter+=1\n",
    "counter"
   ]
  },
  {
   "cell_type": "markdown",
   "metadata": {},
   "source": [
    "## На вход программе подается строка текста из натуральных чисел. Из элементов строки формируется список чисел. Напишите программу, которая меняет местами соседние элементы списка (a[0] c a[1], a[2] c a[3] и т.д.). Если в списке нечетное количество элементов, то последний остается на своем месте."
   ]
  },
  {
   "cell_type": "code",
   "execution_count": 55,
   "metadata": {},
   "outputs": [
    {
     "name": "stdout",
     "output_type": "stream",
     "text": [
      "1 4 5 4 5 8 \n"
     ]
    },
    {
     "data": {
      "text/plain": [
       "['4', '1', '4', '5', '8', '5']"
      ]
     },
     "execution_count": 55,
     "metadata": {},
     "output_type": "execute_result"
    }
   ],
   "source": [
    "def remove_all_occurrences(lst,symbol):\n",
    "    while symbol in lst:\n",
    "        lst.remove(symbol)\n",
    "    return lst\n",
    "def swap_neighbours(lst):\n",
    "    for i in range(len(lst)//2):\n",
    "        x=lst[i*2]\n",
    "        lst[i*2]=lst[i*2+1]\n",
    "        lst[i*2+1]=x\n",
    "    return lst\n",
    "    \n",
    "x = input()\n",
    "lst=[]\n",
    "for i in str(x):\n",
    "    lst.append(i)\n",
    "lst = remove_all_occurrences(lst, ' ')\n",
    "final_lst = swap_neighbours(lst) \n",
    "lst"
   ]
  },
  {
   "cell_type": "markdown",
   "metadata": {},
   "source": [
    "## На вход программе подается строка текста, содержащая натуральные числа, расположенные по неубыванию. Из строки формируется список чисел. Напишите программу для подсчета количества разных элементов в списке."
   ]
  },
  {
   "cell_type": "code",
   "execution_count": 69,
   "metadata": {},
   "outputs": [
    {
     "name": "stdout",
     "output_type": "stream",
     "text": [
      "1 5 4 4 7 7 8 8 8 9\n"
     ]
    },
    {
     "data": {
      "text/plain": [
       "6"
      ]
     },
     "execution_count": 69,
     "metadata": {},
     "output_type": "execute_result"
    }
   ],
   "source": [
    "x=input()\n",
    "set1=set()\n",
    "for i in str(x):\n",
    "    set1.add(i)\n",
    "set1.remove(' ')\n",
    "len(set1)"
   ]
  },
  {
   "cell_type": "markdown",
   "metadata": {},
   "source": [
    "## Дана строка текста, состоящая из букв русского алфавита \"О\" и \"Р\". Буква \"О\" соответствует выпадению Орла, а буква \"Р\" - выпадению Решки. Напишите программу, которая подсчитывает наибольшее количество подряд выпавших одинаковых сторон "
   ]
  },
  {
   "cell_type": "code",
   "execution_count": 93,
   "metadata": {},
   "outputs": [
    {
     "name": "stdout",
     "output_type": "stream",
     "text": [
      "ооорррроооооррр\n"
     ]
    },
    {
     "data": {
      "text/plain": [
       "5"
      ]
     },
     "execution_count": 93,
     "metadata": {},
     "output_type": "execute_result"
    }
   ],
   "source": [
    "# x=input()\n",
    "x=input()\n",
    "lst=[]\n",
    "for i in str(x):\n",
    "    lst.append(i)\n",
    "counter=1\n",
    "maximum=0\n",
    "for i in range(len(lst)-1):\n",
    "    if lst[i]==lst[i+1]:\n",
    "        counter+=1\n",
    "    else:\n",
    "        if counter>maximum:\n",
    "            maximum=counter\n",
    "        counter=1\n",
    "\n",
    "maximum"
   ]
  },
  {
   "cell_type": "markdown",
   "metadata": {},
   "source": [
    "## Искусственный интеллект Антон, созданный Гилфойлом, взломал сеть умных холодильников. Теперь он использует их в качестве серверов \"Пегого дудочника\". Помогите владельцу фирмы отыскать все зараженные холодильники.\n",
    "\n",
    "## Для каждого холодильника существует строка с данными, состоящая из строчных букв и цифр, и если в ней присутствует слово \"anton\" (необязательно рядом стоящие буквы, главное наличие последовательности букв), то холодильник заражен и нужно вывести номер холодильника, нумерация начинается с единицы.\n",
    "\n",
    "Формат входных данных\n",
    "В первой строке подаётся число \n",
    "𝑛\n",
    "n – количество холодильников. В последующих \n",
    "𝑛\n",
    "n строках вводятся строки, содержащие латинские строчные буквы и цифры, в каждой строке от \n",
    "5\n",
    "5 до \n",
    "100\n",
    "100 символов.\n",
    "\n",
    "Формат выходных данных\n",
    "Программа должна вывести номера зараженных холодильников через пробел. Если таких холодильников нет, ничего выводить не нужно."
   ]
  },
  {
   "cell_type": "code",
   "execution_count": null,
   "metadata": {},
   "outputs": [],
   "source": [
    "x=int(input())\n",
    "lst=[input() for i in range(x)]\n",
    "for el in lst:\n",
    "    lst1 = [i for i in el]\n",
    "    if 'a' in lst1:\n",
    "        index = lst1('a')\n",
    "        lst1=lst1[index+1::]\n",
    "    else:\n",
    "        print(0)"
   ]
  },
  {
   "cell_type": "code",
   "execution_count": 4,
   "metadata": {},
   "outputs": [],
   "source": [
    "lst2=['a','n']"
   ]
  },
  {
   "cell_type": "code",
   "execution_count": null,
   "metadata": {},
   "outputs": [],
   "source": [
    "dfd"
   ]
  },
  {
   "cell_type": "code",
   "execution_count": 5,
   "metadata": {},
   "outputs": [
    {
     "data": {
      "text/plain": [
       "True"
      ]
     },
     "execution_count": 5,
     "metadata": {},
     "output_type": "execute_result"
    }
   ],
   "source": [
    "'a' in lst2 "
   ]
  },
  {
   "cell_type": "code",
   "execution_count": 10,
   "metadata": {},
   "outputs": [
    {
     "data": {
      "text/plain": [
       "0"
      ]
     },
     "execution_count": 10,
     "metadata": {},
     "output_type": "execute_result"
    }
   ],
   "source": [
    "index = lst2.index('a')\n",
    "index"
   ]
  },
  {
   "cell_type": "code",
   "execution_count": 12,
   "metadata": {},
   "outputs": [],
   "source": [
    "list3 = [1,2,3,4,5,6,7,8]"
   ]
  },
  {
   "cell_type": "code",
   "execution_count": 14,
   "metadata": {},
   "outputs": [
    {
     "data": {
      "text/plain": [
       "[4, 5, 6, 7, 8]"
      ]
     },
     "execution_count": 14,
     "metadata": {},
     "output_type": "execute_result"
    }
   ],
   "source": [
    "list3[3::]"
   ]
  },
  {
   "cell_type": "markdown",
   "metadata": {},
   "source": [
    "## На вход программе подаются две строки: на одной – символы, на другой – число 𝑛. В первой строки формируется список. Реализуйте функцию chunked(), которая принимает на вход список и число, задающее размер чанка (куска), а возвращает список из чанков (кусков) указанной длины."
   ]
  },
  {
   "cell_type": "code",
   "execution_count": 21,
   "metadata": {},
   "outputs": [
    {
     "name": "stdout",
     "output_type": "stream",
     "text": [
      "1 2 3 4 5 6 7 8 9\n",
      "2\n"
     ]
    },
    {
     "data": {
      "text/plain": [
       "[['1', '2'], ['3', '4'], ['5', '6'], ['7', '8'], ['9']]"
      ]
     },
     "execution_count": 21,
     "metadata": {},
     "output_type": "execute_result"
    }
   ],
   "source": [
    "def remove_all_occur(lst,symbol):\n",
    "    while symbol in lst:\n",
    "        lst.remove(symbol)\n",
    "    return lst\n",
    "x=input()\n",
    "n= int(input())\n",
    "lst1=[]\n",
    "for i in str(x):\n",
    "    lst1.append(i)\n",
    "lst1 = remove_all_occur(lst1,' ')\n",
    "lstfinal=[]\n",
    "for i in range((len(lst1)-1)//n):\n",
    "    lstfinal.append(lst1[i*n:(i+1)*n])\n",
    "\n",
    "lstfinal.append(lst1[((len(lst1)-1)//n)*n::])\n",
    "lstfinal"
   ]
  },
  {
   "cell_type": "code",
   "execution_count": null,
   "metadata": {},
   "outputs": [],
   "source": []
  }
 ],
 "metadata": {
  "kernelspec": {
   "display_name": "Python 3",
   "language": "python",
   "name": "python3"
  },
  "language_info": {
   "codemirror_mode": {
    "name": "ipython",
    "version": 3
   },
   "file_extension": ".py",
   "mimetype": "text/x-python",
   "name": "python",
   "nbconvert_exporter": "python",
   "pygments_lexer": "ipython3",
   "version": "3.8.3"
  }
 },
 "nbformat": 4,
 "nbformat_minor": 4
}
